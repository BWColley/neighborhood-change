{
 "cells": [
  {
   "cell_type": "markdown",
   "metadata": {},
   "source": [
    "\n",
    "\n",
    "(c) Karen Belita  <br /> \n",
    "Team Neighborhood Change <br /> \n",
    "Last Updated 9/15/2016 <br /> \n",
    "\n",
    "# NOTEBOOK: FEATURE SELECTION & MODEL SELECTION-IMPUTER METHOD-MEAN\n",
    "* This is to chose the best feature selecton method and model selection method\n"
   ]
  },
  {
   "cell_type": "code",
   "execution_count": 1,
   "metadata": {
    "collapsed": true
   },
   "outputs": [],
   "source": [
    "####################\n",
    "## DEPENDENCIES ####\n",
    "####################\n",
    "\n",
    "import pandas as pd\n",
    "import os \n",
    "import csv\n",
    "import xlrd\n",
    "import numpy as np\n",
    "import matplotlib\n",
    "import seaborn as sns\n",
    "import matplotlib.pyplot as plt\n",
    "from pandas.tools.plotting import scatter_matrix\n",
    "from __future__ import print_function\n",
    "\n",
    "from sklearn.decomposition import PCA\n",
    "from sklearn.feature_selection import SelectFromModel\n",
    "from sklearn.linear_model import Ridge, Lasso, ElasticNet\n",
    "from sklearn.decomposition import PCA\n",
    "from sklearn.discriminant_analysis import LinearDiscriminantAnalysis as LDA\n",
    "from sklearn.preprocessing import Imputer\n",
    "from sklearn import preprocessing\n",
    "matplotlib.style.use('ggplot')\n",
    "from sklearn.cluster import KMeans\n",
    "from sklearn.cluster import MiniBatchKMeans\n",
    "## http://stats.stackexchange.com/questions/89809/is-it-important-to-scale-data-before-clustering\n",
    "# above says that scaling makes for better\n",
    "\n",
    "from time import time\n",
    "import numpy as np\n",
    "import matplotlib.pyplot as plt\n",
    "\n",
    "import numpy as np\n",
    "\n",
    "from sklearn.cluster import DBSCAN\n",
    "from sklearn import metrics\n",
    "from sklearn.datasets.samples_generator import make_blobs\n",
    "from sklearn.preprocessing import StandardScaler\n",
    "\n",
    "from sklearn import metrics\n",
    "from sklearn.cluster import KMeans\n",
    "from sklearn.datasets import load_digits\n",
    "from sklearn.decomposition import PCA\n",
    "from sklearn.preprocessing import scale\n",
    "from sklearn.preprocessing import StandardScaler, MinMaxScaler\n",
    "%matplotlib inline "
   ]
  },
  {
   "cell_type": "code",
   "execution_count": 3,
   "metadata": {
    "collapsed": true
   },
   "outputs": [],
   "source": [
    "df = pd.read_csv('indicators.csv')\n"
   ]
  },
  {
   "cell_type": "code",
   "execution_count": 4,
   "metadata": {
    "collapsed": false
   },
   "outputs": [],
   "source": [
    "indicators = df[['cbsa', 'msa_name', 'violent_crime_rate', \n",
    "                'murder_manslaughter',\n",
    "                'rape', 'robbery',\n",
    "                'aggravated_assault',\n",
    "                'property_crime_rate',\n",
    "                'burglary', 'larceny_theft',\n",
    "                'motor_vehicle_theft',\n",
    "                'total_crime_rate',\n",
    "                'median_gross_rent',\n",
    "                'median_monthly_mortgage',\n",
    "                'rent_burden', 'mortgage_burden',\n",
    "                'income_change_2012_to_2014',\n",
    "                'median_age_of_men', 'median_age_of_women',\n",
    "                'median_age', 'median_household_income',\n",
    "                'single_men_population',\n",
    "                'single_women_population',\n",
    "                'ratio_of_single_men_to_single_women',\n",
    "                'population_percent_of_single_men',\n",
    "                'population_percent_of_single_women',\n",
    "                'population', 'edu_average_scale_score',\n",
    "                'pct_laccess_pop10', 'pct_laccess_lowi10',\n",
    "                'pct_laccess_child10', 'pct_laccess_seniors10',\n",
    "                'pct_laccess_hhnv10', 'event_mpmt',\n",
    "                'fatalities_mpmt', 'injuries_mpmt',\n",
    "                'walk_score', 'transit_score', 'bike_score',\n",
    "                'unemploymentrate', 'employment', 'laborforce']]\n"
   ]
  },
  {
   "cell_type": "code",
   "execution_count": 5,
   "metadata": {
    "collapsed": false
   },
   "outputs": [
    {
     "name": "stderr",
     "output_type": "stream",
     "text": [
      "/Users/kbelita/anaconda/lib/python2.7/site-packages/ipykernel/__main__.py:8: FutureWarning: convert_objects is deprecated.  Use the data-type specific converters pd.to_datetime, pd.to_timedelta and pd.to_numeric.\n"
     ]
    }
   ],
   "source": [
    "## all Nans to white space\n",
    "indicators = indicators.replace(np.nan,' ', regex=True)\n",
    "\n",
    "indicators = indicators.replace(np.nan,'NaN', regex=True)\n",
    "\n",
    "# convert to all floats except cbsa and msa_name\n",
    "\n",
    "indicators = indicators.convert_objects(convert_numeric=True)\n",
    "##imputer\n"
   ]
  },
  {
   "cell_type": "code",
   "execution_count": 6,
   "metadata": {
    "collapsed": true
   },
   "outputs": [],
   "source": [
    "indicators.columns = ['cbsa', 'msa_name', 'violent_crime_rate', \n",
    "                                'murder_manslaughter',\n",
    "                                'rape', 'robbery',\n",
    "                                'aggravated_assault',\n",
    "                                'property_crime_rate',\n",
    "                                'burglary', 'larceny_theft',\n",
    "                                'motor_vehicle_theft',\n",
    "                                'total_crime_rate',\n",
    "                                'median_gross_rent',\n",
    "                                'median_monthly_mortgage',\n",
    "                                'rent_burden', 'mortgage_burden',\n",
    "                                'income_change_2012_to_2014',\n",
    "                                'median_age_of_men', 'median_age_of_women',\n",
    "                                'median_age', 'median_household_income',\n",
    "                                'single_men_population',\n",
    "                                'single_women_population',\n",
    "                                'ratio_of_single_men_to_single_women',\n",
    "                                'population_percent_of_single_men',\n",
    "                                'population_percent_of_single_women',\n",
    "                                'population', 'edu_average_scale_score',\n",
    "                                'pct_laccess_pop10', 'pct_laccess_lowi10',\n",
    "                                'pct_laccess_child10', 'pct_laccess_seniors10',\n",
    "                                'pct_laccess_hhnv10', 'event_mpmt',\n",
    "                                'fatalities_mpmt', 'injuries_mpmt',\n",
    "                                'walk_score', 'transit_score', 'bike_score',\n",
    "                                'unemploymentrate', 'employment',\n",
    "                                'laborforce']\n"
   ]
  },
  {
   "cell_type": "code",
   "execution_count": 7,
   "metadata": {
    "collapsed": true
   },
   "outputs": [],
   "source": [
    "featuresx = df[['violent_crime_rate', \n",
    "                'murder_manslaughter',\n",
    "                'rape', 'robbery',\n",
    "                'aggravated_assault',\n",
    "                'property_crime_rate',\n",
    "                'burglary', 'larceny_theft',\n",
    "                'motor_vehicle_theft',\n",
    "                'total_crime_rate',\n",
    "                'median_gross_rent',\n",
    "                'median_monthly_mortgage',\n",
    "                'rent_burden', 'mortgage_burden',\n",
    "                'income_change_2012_to_2014',\n",
    "                'median_age_of_men', 'median_age_of_women',\n",
    "                'median_age', 'median_household_income',\n",
    "                'single_men_population',\n",
    "                'single_women_population',\n",
    "                'ratio_of_single_men_to_single_women',\n",
    "                'population_percent_of_single_men',\n",
    "                'population_percent_of_single_women',\n",
    "                'population', 'edu_average_scale_score',\n",
    "                'pct_laccess_pop10', 'pct_laccess_lowi10',\n",
    "                'pct_laccess_child10', 'pct_laccess_seniors10',\n",
    "                'pct_laccess_hhnv10', 'event_mpmt',\n",
    "                'fatalities_mpmt', 'injuries_mpmt',\n",
    "                'walk_score', 'transit_score', 'bike_score',\n",
    "                'unemploymentrate', 'employment', 'laborforce']]\n",
    "\n",
    "labelsx = df[\"cbsa\"]"
   ]
  },
  {
   "cell_type": "markdown",
   "metadata": {},
   "source": [
    "Dealing with Missing Data"
   ]
  },
  {
   "cell_type": "code",
   "execution_count": 8,
   "metadata": {
    "collapsed": false
   },
   "outputs": [
    {
     "name": "stderr",
     "output_type": "stream",
     "text": [
      "/Users/kbelita/anaconda/lib/python2.7/site-packages/ipykernel/__main__.py:5: FutureWarning: convert_objects is deprecated.  Use the data-type specific converters pd.to_datetime, pd.to_timedelta and pd.to_numeric.\n"
     ]
    }
   ],
   "source": [
    "## all Nans to white space\n",
    "featuresx = featuresx.replace(np.nan,' ', regex=True)\n",
    "featuresx = featuresx.replace(np.nan,'NaN', regex=True)\n",
    "##convert to all floats\n",
    "featuresx = featuresx.convert_objects(convert_numeric=True)\n",
    "##imputer\n",
    "featuresx = featuresx.interpolate()"
   ]
  },
  {
   "cell_type": "code",
   "execution_count": 9,
   "metadata": {
    "collapsed": true
   },
   "outputs": [],
   "source": [
    "featuresx.columns = ['violen t_crime_rate', 'murder_manslaughter', 'rape', 'robbery', 'aggravated_assault', 'property_crime_rate', 'burglary', 'larceny_theft', 'motor_vehicle_theft', 'total_crime_rate', 'median_gross_rent', 'median_monthly_mortgage', 'rent_burden', 'mortgage_burden', 'income_change_2012_to_2014', 'median_age_of_men', 'median_age_of_women', 'median_age', 'median_household_income', 'single_men_population', 'single_women_population', 'ratio_of_single_men_to_single_women', 'population_percent_of_single_men', 'population_percent_of_single_women', 'population', 'edu_average_scale_score', 'pct_laccess_pop10', 'pct_laccess_lowi10', 'pct_laccess_child10', 'pct_laccess_seniors10', 'pct_laccess_hhnv10', 'event_mpmt', 'fatalities_mpmt', 'injuries_mpmt', 'walk_score', 'transit_score', 'bike_score', 'unemploymentrate', 'employment', 'laborforce']\n"
   ]
  },
  {
   "cell_type": "markdown",
   "metadata": {},
   "source": [
    "#### DBSCAN"
   ]
  },
  {
   "cell_type": "markdown",
   "metadata": {},
   "source": [
    "Trial"
   ]
  },
  {
   "cell_type": "code",
   "execution_count": 11,
   "metadata": {
    "collapsed": false
   },
   "outputs": [
    {
     "name": "stdout",
     "output_type": "stream",
     "text": [
      "Estimated number of clusters: 2\n",
      "Homogeneity: 0.056\n",
      "Completeness: 1.000\n",
      "V-measure: 0.107\n",
      "Adjusted Rand Index: 0.000\n",
      "Adjusted Mutual Information: 0.000\n",
      "Silhouette Coefficient: -0.197\n"
     ]
    },
    {
     "name": "stderr",
     "output_type": "stream",
     "text": [
      "/Users/kbelita/anaconda/lib/python2.7/site-packages/matplotlib/lines.py:1106: UnicodeWarning: Unicode unequal comparison failed to convert both arguments to Unicode - interpreting them as being unequal\n",
      "  if self._markerfacecolor != fc:\n"
     ]
    },
    {
     "data": {
      "image/png": "[encoded data removed]",
      "text/plain": [
       "<matplotlib.figure.Figure at 0x1178d7dd0>"
      ]
     },
     "metadata": {},
     "output_type": "display_data"
    }
   ],
   "source": [
    "\n",
    "# Compute DBSCAN\n",
    "\n",
    "\n",
    "stscaler = StandardScaler().fit(featuresx)\n",
    "featuresx = stscaler.transform(featuresx)\n",
    "featuresx = pd.DataFrame(featuresx)\n",
    "\n",
    "\n",
    "pca = PCA(n_components = 23)\n",
    "pca_features = pca.fit(featuresx).transform(featuresx)\n",
    "pca_features = pd.DataFrame(pca_features)\n",
    "\n",
    "\n",
    "features = featuresx.values\n",
    "\n",
    "#DBSCAN \n",
    "db = DBSCAN(eps = 3.4, min_samples = 10).fit(features)\n",
    "core_samples_mask = np.zeros_like(db.labels_, dtype=bool)\n",
    "core_samples_mask[db.core_sample_indices_] = True\n",
    "labels = db.labels_\n",
    "\n",
    "# Number of clusters in labels, ignoring noise if present.\n",
    "n_clusters_ = len(set(labels)) - (1 if -1 in labels else 0)\n",
    "\n",
    "print('Estimated number of clusters: %d' % n_clusters_)\n",
    "print(\"Homogeneity: %0.3f\" % metrics.homogeneity_score(labelsx, labels))\n",
    "print(\"Completeness: %0.3f\" % metrics.completeness_score(labelsx, labels))\n",
    "print(\"V-measure: %0.3f\" % metrics.v_measure_score(labelsx, labels))\n",
    "print(\"Adjusted Rand Index: %0.3f\"\n",
    "      % metrics.adjusted_rand_score(labelsx, labels))\n",
    "print(\"Adjusted Mutual Information: %0.3f\"\n",
    "      % metrics.adjusted_mutual_info_score(labelsx, labels))\n",
    "print(\"Silhouette Coefficient: %0.3f\"\n",
    "      % metrics.silhouette_score(features, labels))\n",
    "\n",
    "##############################################################################\n",
    "# Plot result\n",
    "import matplotlib.pyplot as plt\n",
    "\n",
    "# Black removed and is used for noise instead.\n",
    "unique_labels = set(labels)\n",
    "colors = plt.cm.Spectral(np.linspace(0, 1, len(unique_labels)))\n",
    "for k, col in zip(unique_labels, colors):\n",
    "    if k == -1:\n",
    "        # Black used for noise.\n",
    "        col = 'k'\n",
    "\n",
    "    class_member_mask = (labels == k)\n",
    "\n",
    "    xy = features[class_member_mask & core_samples_mask]\n",
    "    plt.plot(xy[:, 0], xy[:, 1], 'o', markerfacecolor=col,\n",
    "             markeredgecolor='k', markersize=14)\n",
    "\n",
    "    xy = features[class_member_mask & ~core_samples_mask]\n",
    "    plt.plot(xy[:, 0], xy[:, 1], 'o', markerfacecolor=col,\n",
    "             markeredgecolor='k', markersize=6)\n",
    "\n",
    "plt.title('Estimated number of clusters: %d' % n_clusters_)\n",
    "plt.show()"
   ]
  },
  {
   "cell_type": "markdown",
   "metadata": {},
   "source": [
    "# LOOP to try different eps & min_samples"
   ]
  },
  {
   "cell_type": "code",
   "execution_count": null,
   "metadata": {
    "collapsed": true
   },
   "outputs": [],
   "source": [
    "\n",
    "# Compute DBSCAN\n",
    "\n",
    "import numpy as np\n",
    "\n",
    "pca = PCA(n_components = 23)\n",
    "pca_features = pca.fit(featuresx).transform(featuresx)\n",
    "pca_features = pd.DataFrame(pca_features)\n",
    "\n",
    "\n",
    "features = featuresx.values\n",
    "\n",
    "#DBSCAN \n",
    "\n",
    "range_of_m_samples=  range(5,40)\n",
    "\n",
    "for m in range_of_m_samples:\n",
    "\n",
    "    range_of_eps = np.arange(5.1, 20.5, 0.5)\n",
    "\n",
    "    for e in range_of_eps:    \n",
    "        print ('min samples = %d' % (m))\n",
    "        print ('eps : %0.1f' % (e))\n",
    "        db = DBSCAN(eps = e, min_samples = m).fit(features)\n",
    "        core_samples_mask = np.zeros_like(db.labels_, dtype=bool)\n",
    "        core_samples_mask[db.core_sample_indices_] = True\n",
    "        labels = db.labels_\n",
    "\n",
    "        # Number of clusters in labels, ignoring noise if present.\n",
    "        n_clusters_ = len(set(labels)) - (1 if -1 in labels else 0)\n",
    "        try: \n",
    "            print('Estimated number of clusters: %d' % n_clusters_)\n",
    "            print(\"Homogeneity: %0.3f\" % metrics.homogeneity_score(labelsx, labels))\n",
    "            print(\"Completeness: %0.3f\" % metrics.completeness_score(labelsx, labels))\n",
    "            print(\"V-measure: %0.3f\" % metrics.v_measure_score(labelsx, labels))\n",
    "            print(\"Adjusted Rand Index: %0.3f\"\n",
    "                  % metrics.adjusted_rand_score(labelsx, labels))\n",
    "            print(\"Adjusted Mutual Information: %0.3f\"\n",
    "                  % metrics.adjusted_mutual_info_score(labelsx, labels))\n",
    "            print(\"Silhouette Coefficient: %0.3f\" % metrics.silhouette_score(features, labels))\n",
    "\n",
    "\n",
    "\n",
    "            ##############################################################################\n",
    "            # Plot result\n",
    "            import matplotlib.pyplot as plt\n",
    "\n",
    "            # Black removed and is used for noise instead.\n",
    "            unique_labels = set(labels)\n",
    "            colors = plt.cm.Spectral(np.linspace(0, 1, len(unique_labels)))\n",
    "            for k, col in zip(unique_labels, colors):\n",
    "                if k == -1:\n",
    "                    # Black used for noise.\n",
    "                    col = 'k'\n",
    "\n",
    "                class_member_mask = (labels == k)\n",
    "\n",
    "                xy = features[class_member_mask & core_samples_mask]\n",
    "                plt.plot(xy[:, 0], xy[:, 1], 'o', markerfacecolor=col,\n",
    "                         markeredgecolor='k', markersize=14)\n",
    "\n",
    "                xy = features[class_member_mask & ~core_samples_mask]\n",
    "                plt.plot(xy[:, 0], xy[:, 1], 'o', markerfacecolor=col,\n",
    "                         markeredgecolor='k', markersize=6)\n",
    "\n",
    "            plt.title('Estimated number of clusters: %d' % n_clusters_)\n",
    "            plt.show()\n",
    "        except ValueError:\n",
    "            pass"
   ]
  },
  {
   "cell_type": "code",
   "execution_count": null,
   "metadata": {
    "collapsed": true
   },
   "outputs": [],
   "source": []
  }
 ],
 "metadata": {
  "kernelspec": {
   "display_name": "Python 2",
   "language": "python",
   "name": "python2"
  },
  "language_info": {
   "codemirror_mode": {
    "name": "ipython",
    "version": 2
   },
   "file_extension": ".py",
   "mimetype": "text/x-python",
   "name": "python",
   "nbconvert_exporter": "python",
   "pygments_lexer": "ipython2",
   "version": "2.7.11"
  }
 },
 "nbformat": 4,
 "nbformat_minor": 1
}
