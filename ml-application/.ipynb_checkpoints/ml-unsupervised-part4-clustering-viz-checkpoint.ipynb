{
 "cells": [
  {
   "cell_type": "markdown",
   "metadata": {},
   "source": [
    "(c) Karen Belita  <br /> \n",
    "Team Neighborhood Change <br /> \n",
    "Last Updated 9/7/2016 <br /> \n",
    "\n",
    "# NOTEBOOK: CLUSTER VISUALIZATIONS\n",
    "To create a few visualizations to see which features to use for machine learning - unsupervised learning\n",
    "\n",
    "### OUTPUT\n",
    "* visualizations\n",
    "* csv file is created for each cluster"
   ]
  },
  {
   "cell_type": "markdown",
   "metadata": {},
   "source": [
    "# DEPENDENCIES"
   ]
  },
  {
   "cell_type": "markdown",
   "metadata": {},
   "source": [
    "indicators_clustered_completed.csv --  which has a list of all features imputted with cluster assignment\n"
   ]
  },
  {
   "cell_type": "code",
   "execution_count": 70,
   "metadata": {
    "collapsed": true
   },
   "outputs": [],
   "source": [
    "import warnings\n",
    "import pandas as pd\n",
    "import os \n",
    "import csv\n",
    "import xlrd\n",
    "import numpy as np\n",
    "import matplotlib\n",
    "import seaborn as sns\n",
    "import matplotlib.pyplot as plt\n",
    "from pandas.tools.plotting import scatter_matrix\n",
    "import numpy as np\n",
    "from sklearn.preprocessing import Imputer\n",
    "from sklearn.preprocessing import MinMaxScaler, StandardScaler,RobustScaler, Normalizer\n",
    "\n",
    "\n",
    "import matplotlib\n",
    "matplotlib.style.use('ggplot')\n",
    "\n",
    "%matplotlib inline "
   ]
  },
  {
   "cell_type": "markdown",
   "metadata": {},
   "source": [
    "# PART 1"
   ]
  },
  {
   "cell_type": "markdown",
   "metadata": {},
   "source": [
    "* read indicators.csv\n"
   ]
  },
  {
   "cell_type": "code",
   "execution_count": 71,
   "metadata": {
    "collapsed": false
   },
   "outputs": [],
   "source": [
    "df = pd.read_csv('indicators_clustered_completed.csv')"
   ]
  },
  {
   "cell_type": "code",
   "execution_count": 72,
   "metadata": {
    "collapsed": false
   },
   "outputs": [
    {
     "data": {
      "text/html": [
       "<div>\n",
       "<table border=\"1\" class=\"dataframe\">\n",
       "  <thead>\n",
       "    <tr style=\"text-align: right;\">\n",
       "      <th></th>\n",
       "      <th>Unnamed: 0</th>\n",
       "      <th>cbsa</th>\n",
       "      <th>msa_name</th>\n",
       "      <th>cluster</th>\n",
       "      <th>violent_crime_rate</th>\n",
       "      <th>murder_manslaughter</th>\n",
       "      <th>rape</th>\n",
       "      <th>robbery</th>\n",
       "      <th>aggravated_assault</th>\n",
       "      <th>property_crime_rate</th>\n",
       "      <th>...</th>\n",
       "      <th>pct_laccess_hhnv10</th>\n",
       "      <th>event_mpmt</th>\n",
       "      <th>fatalities_mpmt</th>\n",
       "      <th>injuries_mpmt</th>\n",
       "      <th>walk_score</th>\n",
       "      <th>transit_score</th>\n",
       "      <th>bike_score</th>\n",
       "      <th>unemploymentrate</th>\n",
       "      <th>employment</th>\n",
       "      <th>laborforce</th>\n",
       "    </tr>\n",
       "  </thead>\n",
       "  <tbody>\n",
       "    <tr>\n",
       "      <th>0</th>\n",
       "      <td>0</td>\n",
       "      <td>35620</td>\n",
       "      <td>New York-Newark-Jersey City NY-NJ-PA Metro Are...</td>\n",
       "      <td>5</td>\n",
       "      <td>371.4</td>\n",
       "      <td>3.1</td>\n",
       "      <td>16.6</td>\n",
       "      <td>135.3</td>\n",
       "      <td>216.3</td>\n",
       "      <td>1609.9</td>\n",
       "      <td>...</td>\n",
       "      <td>0.338235</td>\n",
       "      <td>0.418116</td>\n",
       "      <td>0.005243</td>\n",
       "      <td>0.396239</td>\n",
       "      <td>74.500000</td>\n",
       "      <td>44.833333</td>\n",
       "      <td>30.333333</td>\n",
       "      <td>6.40</td>\n",
       "      <td>9324454.0</td>\n",
       "      <td>9965273.0</td>\n",
       "    </tr>\n",
       "    <tr>\n",
       "      <th>1</th>\n",
       "      <td>1</td>\n",
       "      <td>31080</td>\n",
       "      <td>Los Angeles-Long Beach-Anaheim CA Metro Area  ...</td>\n",
       "      <td>2</td>\n",
       "      <td>368.9</td>\n",
       "      <td>4.4</td>\n",
       "      <td>21.6</td>\n",
       "      <td>136.6</td>\n",
       "      <td>206.2</td>\n",
       "      <td>2050.4</td>\n",
       "      <td>...</td>\n",
       "      <td>0.224680</td>\n",
       "      <td>0.298524</td>\n",
       "      <td>0.004415</td>\n",
       "      <td>0.345391</td>\n",
       "      <td>60.052632</td>\n",
       "      <td>19.368421</td>\n",
       "      <td>24.000000</td>\n",
       "      <td>6.75</td>\n",
       "      <td>6932227.5</td>\n",
       "      <td>7426637.5</td>\n",
       "    </tr>\n",
       "    <tr>\n",
       "      <th>2</th>\n",
       "      <td>2</td>\n",
       "      <td>16980</td>\n",
       "      <td>Chicago-Naperville-Elgin IL-IN-WI Metro Area  ...</td>\n",
       "      <td>7</td>\n",
       "      <td>380.1</td>\n",
       "      <td>6.3</td>\n",
       "      <td>28.2</td>\n",
       "      <td>143.3</td>\n",
       "      <td>202.2</td>\n",
       "      <td>2135.4</td>\n",
       "      <td>...</td>\n",
       "      <td>0.473720</td>\n",
       "      <td>0.579050</td>\n",
       "      <td>0.004533</td>\n",
       "      <td>0.708461</td>\n",
       "      <td>49.700000</td>\n",
       "      <td>20.300000</td>\n",
       "      <td>7.000000</td>\n",
       "      <td>7.10</td>\n",
       "      <td>4540001.0</td>\n",
       "      <td>4888002.0</td>\n",
       "    </tr>\n",
       "    <tr>\n",
       "      <th>3</th>\n",
       "      <td>3</td>\n",
       "      <td>19100</td>\n",
       "      <td>Dallas-Fort Worth-Arlington TX Metro Area     ...</td>\n",
       "      <td>13</td>\n",
       "      <td>332.9</td>\n",
       "      <td>4.4</td>\n",
       "      <td>31.8</td>\n",
       "      <td>120.8</td>\n",
       "      <td>175.8</td>\n",
       "      <td>3036.4</td>\n",
       "      <td>...</td>\n",
       "      <td>0.650693</td>\n",
       "      <td>0.494725</td>\n",
       "      <td>0.006083</td>\n",
       "      <td>0.583938</td>\n",
       "      <td>38.714286</td>\n",
       "      <td>19.714286</td>\n",
       "      <td>26.285714</td>\n",
       "      <td>5.00</td>\n",
       "      <td>3357271.0</td>\n",
       "      <td>3534675.0</td>\n",
       "    </tr>\n",
       "    <tr>\n",
       "      <th>4</th>\n",
       "      <td>4</td>\n",
       "      <td>26420</td>\n",
       "      <td>Houston-The Woodlands-Sugar Land TX Metro Area...</td>\n",
       "      <td>1</td>\n",
       "      <td>567.4</td>\n",
       "      <td>5.8</td>\n",
       "      <td>33.2</td>\n",
       "      <td>232.2</td>\n",
       "      <td>296.1</td>\n",
       "      <td>3208.1</td>\n",
       "      <td>...</td>\n",
       "      <td>3.322921</td>\n",
       "      <td>0.492627</td>\n",
       "      <td>0.001631</td>\n",
       "      <td>0.724259</td>\n",
       "      <td>29.000000</td>\n",
       "      <td>7.400000</td>\n",
       "      <td>9.800000</td>\n",
       "      <td>5.00</td>\n",
       "      <td>3079095.0</td>\n",
       "      <td>3239227.0</td>\n",
       "    </tr>\n",
       "  </tbody>\n",
       "</table>\n",
       "<p>5 rows × 44 columns</p>\n",
       "</div>"
      ],
      "text/plain": [
       "   Unnamed: 0   cbsa                                           msa_name  \\\n",
       "0           0  35620  New York-Newark-Jersey City NY-NJ-PA Metro Are...   \n",
       "1           1  31080  Los Angeles-Long Beach-Anaheim CA Metro Area  ...   \n",
       "2           2  16980  Chicago-Naperville-Elgin IL-IN-WI Metro Area  ...   \n",
       "3           3  19100  Dallas-Fort Worth-Arlington TX Metro Area     ...   \n",
       "4           4  26420  Houston-The Woodlands-Sugar Land TX Metro Area...   \n",
       "\n",
       "   cluster  violent_crime_rate  murder_manslaughter  rape  robbery  \\\n",
       "0        5               371.4                  3.1  16.6    135.3   \n",
       "1        2               368.9                  4.4  21.6    136.6   \n",
       "2        7               380.1                  6.3  28.2    143.3   \n",
       "3       13               332.9                  4.4  31.8    120.8   \n",
       "4        1               567.4                  5.8  33.2    232.2   \n",
       "\n",
       "   aggravated_assault  property_crime_rate     ...      pct_laccess_hhnv10  \\\n",
       "0               216.3               1609.9     ...                0.338235   \n",
       "1               206.2               2050.4     ...                0.224680   \n",
       "2               202.2               2135.4     ...                0.473720   \n",
       "3               175.8               3036.4     ...                0.650693   \n",
       "4               296.1               3208.1     ...                3.322921   \n",
       "\n",
       "   event_mpmt  fatalities_mpmt  injuries_mpmt  walk_score  transit_score  \\\n",
       "0    0.418116         0.005243       0.396239   74.500000      44.833333   \n",
       "1    0.298524         0.004415       0.345391   60.052632      19.368421   \n",
       "2    0.579050         0.004533       0.708461   49.700000      20.300000   \n",
       "3    0.494725         0.006083       0.583938   38.714286      19.714286   \n",
       "4    0.492627         0.001631       0.724259   29.000000       7.400000   \n",
       "\n",
       "   bike_score  unemploymentrate  employment  laborforce  \n",
       "0   30.333333              6.40   9324454.0   9965273.0  \n",
       "1   24.000000              6.75   6932227.5   7426637.5  \n",
       "2    7.000000              7.10   4540001.0   4888002.0  \n",
       "3   26.285714              5.00   3357271.0   3534675.0  \n",
       "4    9.800000              5.00   3079095.0   3239227.0  \n",
       "\n",
       "[5 rows x 44 columns]"
      ]
     },
     "execution_count": 72,
     "metadata": {},
     "output_type": "execute_result"
    }
   ],
   "source": [
    "df.head()"
   ]
  },
  {
   "cell_type": "code",
   "execution_count": 73,
   "metadata": {
    "collapsed": true
   },
   "outputs": [],
   "source": [
    "df = df[['cbsa', 'msa_name', 'cluster','violent_crime_rate', 'murder_manslaughter', 'rape', 'robbery', 'aggravated_assault', 'property_crime_rate', 'burglary', 'larceny_theft', 'motor_vehicle_theft', 'total_crime_rate', 'median_gross_rent', 'median_monthly_mortgage', 'rent_burden', 'mortgage_burden', 'income_change_2012_to_2014', 'median_age_of_men', 'median_age_of_women', 'median_age', 'median_household_income', 'single_men_population', 'single_women_population', 'ratio_of_single_men_to_single_women', 'population_percent_of_single_men', 'population_percent_of_single_women', 'population', 'edu_average_scale_score', 'pct_laccess_pop10', 'pct_laccess_lowi10', 'pct_laccess_child10', 'pct_laccess_seniors10', 'pct_laccess_hhnv10', 'event_mpmt', 'fatalities_mpmt', 'injuries_mpmt', 'walk_score', 'transit_score', 'bike_score', 'unemploymentrate', 'employment', 'laborforce']]"
   ]
  },
  {
   "cell_type": "code",
   "execution_count": 74,
   "metadata": {
    "collapsed": false
   },
   "outputs": [
    {
     "data": {
      "text/plain": [
       "array(['cbsa', 'msa_name', 'cluster', 'violent_crime_rate',\n",
       "       'murder_manslaughter', 'rape', 'robbery', 'aggravated_assault',\n",
       "       'property_crime_rate', 'burglary', 'larceny_theft',\n",
       "       'motor_vehicle_theft', 'total_crime_rate', 'median_gross_rent',\n",
       "       'median_monthly_mortgage', 'rent_burden', 'mortgage_burden',\n",
       "       'income_change_2012_to_2014', 'median_age_of_men',\n",
       "       'median_age_of_women', 'median_age', 'median_household_income',\n",
       "       'single_men_population', 'single_women_population',\n",
       "       'ratio_of_single_men_to_single_women',\n",
       "       'population_percent_of_single_men',\n",
       "       'population_percent_of_single_women', 'population',\n",
       "       'edu_average_scale_score', 'pct_laccess_pop10',\n",
       "       'pct_laccess_lowi10', 'pct_laccess_child10',\n",
       "       'pct_laccess_seniors10', 'pct_laccess_hhnv10', 'event_mpmt',\n",
       "       'fatalities_mpmt', 'injuries_mpmt', 'walk_score', 'transit_score',\n",
       "       'bike_score', 'unemploymentrate', 'employment', 'laborforce'], dtype=object)"
      ]
     },
     "execution_count": 74,
     "metadata": {},
     "output_type": "execute_result"
    }
   ],
   "source": [
    "df.columns.values"
   ]
  },
  {
   "cell_type": "code",
   "execution_count": null,
   "metadata": {
    "collapsed": true
   },
   "outputs": [],
   "source": []
  },
  {
   "cell_type": "code",
   "execution_count": null,
   "metadata": {
    "collapsed": true
   },
   "outputs": [],
   "source": []
  },
  {
   "cell_type": "markdown",
   "metadata": {},
   "source": [
    "# PART 2:\n",
    "* Plotting\n",
    "* creating csv files for grouped cluser that will be used in the plotly online application"
   ]
  },
  {
   "cell_type": "code",
   "execution_count": 30,
   "metadata": {
    "collapsed": false
   },
   "outputs": [
    {
     "name": "stdout",
     "output_type": "stream",
     "text": [
      "High five! You successfuly sent some data to your account on plotly. View your plot in your browser at https://plot.ly/~karen.belita/0 or inside your plot.ly account where it is named 'clusters'\n"
     ]
    },
    {
     "data": {
      "text/html": [
       "<iframe id=\"igraph\" scrolling=\"no\" style=\"border:none;\" seamless=\"seamless\" src=\"https://plot.ly/~karen.belita/0.embed\" height=\"525px\" width=\"100%\"></iframe>"
      ],
      "text/plain": [
       "<plotly.tools.PlotlyDisplay object>"
      ]
     },
     "execution_count": 30,
     "metadata": {},
     "output_type": "execute_result"
    },
    {
     "data": {
      "text/plain": [
       "<matplotlib.figure.Figure at 0x1178afa10>"
      ]
     },
     "metadata": {},
     "output_type": "display_data"
    }
   ],
   "source": [
    "import plotly.plotly as py\n",
    "import cufflinks as cf\n",
    "import pandas as pd\n",
    "\n",
    "\n",
    "py.sign_in('karen.belita', 'eclu33vmlw')\n",
    "\n",
    "bubbles_mpl = plt.figure()\n",
    "\n",
    "cf.set_config_file(offline=False, world_readable=True, theme='pearl')\n",
    "\n",
    "\n",
    "df.iplot(kind='bubble', x= 'total_crime_rate', y='rent_burden', size= 'population', \n",
    "             xTitle='total crime rate', yTitle='rent burden',\n",
    "             filename='clusters')\n",
    "\n",
    " "
   ]
  },
  {
   "cell_type": "markdown",
   "metadata": {},
   "source": [
    "## scale down population"
   ]
  },
  {
   "cell_type": "code",
   "execution_count": 77,
   "metadata": {
    "collapsed": false
   },
   "outputs": [
    {
     "data": {
      "text/plain": [
       "count    3.000000e+02\n",
       "mean     8.894465e+05\n",
       "std      1.808600e+06\n",
       "min      1.397230e+05\n",
       "25%      1.948065e+05\n",
       "50%      3.407890e+05\n",
       "75%      7.324810e+05\n",
       "max      2.009288e+07\n",
       "Name: population, dtype: float64"
      ]
     },
     "execution_count": 77,
     "metadata": {},
     "output_type": "execute_result"
    }
   ],
   "source": [
    "df['population'].describe()"
   ]
  },
  {
   "cell_type": "code",
   "execution_count": 79,
   "metadata": {
    "collapsed": false
   },
   "outputs": [],
   "source": [
    "df['population'] = (df['population']/100000)"
   ]
  },
  {
   "cell_type": "markdown",
   "metadata": {},
   "source": [
    "\n",
    "## data per cluster"
   ]
  },
  {
   "cell_type": "code",
   "execution_count": 80,
   "metadata": {
    "collapsed": false
   },
   "outputs": [
    {
     "data": {
      "text/html": [
       "<iframe id=\"igraph\" scrolling=\"no\" style=\"border:none;\" seamless=\"seamless\" src=\"https://plot.ly/~karen.belita/2.embed\" height=\"525px\" width=\"100%\"></iframe>"
      ],
      "text/plain": [
       "<plotly.tools.PlotlyDisplay object>"
      ]
     },
     "execution_count": 80,
     "metadata": {},
     "output_type": "execute_result"
    }
   ],
   "source": [
    "\n",
    "import plotly.plotly as py\n",
    "import plotly.graph_objs as go\n",
    "\n",
    "import pandas as pd\n",
    "import math\n",
    "\n",
    "\n",
    "\n",
    "trace0 = go.Scatter(x=df['employment'][df['cluster'] == 0],\n",
    "                    y=df['walk_score'][df['cluster'] == 0],\n",
    "                    mode='markers',\n",
    "                    name='Cluster 0',\n",
    "                    text=df['msa_name'][df['cluster'] == 0],\n",
    "                    marker=dict(symbol='circle',\n",
    "                                sizemode='diameter',\n",
    "                                sizeref=0.85,\n",
    "                                size=df['population'][df['cluster'] == 0],\n",
    "                                line=dict(width=2),))\n",
    "\n",
    "trace1 = go.Scatter(x=df['employment'][df['cluster'] == 1],\n",
    "                    y=df['walk_score'][df['cluster'] == 1],\n",
    "                    mode='markers',\n",
    "                    name='Cluster 1',\n",
    "                    text=df['msa_name'][df['cluster'] == 1],\n",
    "                    marker=dict(symbol='circle',\n",
    "                                sizemode='diameter',\n",
    "                                sizeref=0.85,\n",
    "                                size=df['population'][df['cluster'] == 1],\n",
    "                                line=dict(width=2),))\n",
    "\n",
    "\n",
    "trace2 = go.Scatter(x=df['employment'][df['cluster'] == 2],\n",
    "                    y=df['walk_score'][df['cluster'] == 2],\n",
    "                    mode='markers',\n",
    "                    name='Cluster 2',\n",
    "                    text=df['msa_name'][df['cluster'] == 2],\n",
    "                    marker=dict(symbol='circle',\n",
    "                                sizemode='diameter',\n",
    "                                sizeref=0.85,\n",
    "                                size=df['population'][df['cluster'] == 2],\n",
    "                                line=dict(width=2),))\n",
    "\n",
    "trace3 = go.Scatter(x=df['employment'][df['cluster'] == 3],\n",
    "                    y=df['walk_score'][df['cluster'] == 3],\n",
    "                    mode='markers',\n",
    "                    name='Cluster 3',\n",
    "                    text=df['msa_name'][df['cluster'] == 3],\n",
    "                    marker=dict(symbol='circle',\n",
    "                                sizemode='diameter',\n",
    "                                sizeref=0.85,\n",
    "                                size=df['population'][df['cluster'] == 3],\n",
    "                                line=dict(width=2),))\n",
    "\n",
    "trace4= go.Scatter(x=df['employment'][df['cluster'] == 4],\n",
    "                    y=df['walk_score'][df['cluster'] == 4],\n",
    "                    mode='markers',\n",
    "                    name='Cluster 4',\n",
    "                    text=df['msa_name'][df['cluster'] == 4],\n",
    "                    marker=dict(symbol='circle',\n",
    "                                sizemode='diameter',\n",
    "                                sizeref=0.85,\n",
    "                                size=df['population'][df['cluster'] == 4],\n",
    "                                line=dict(width=2),))\n",
    "\n",
    "\n",
    "trace5= go.Scatter(x=df['employment'][df['cluster'] == 5],\n",
    "                    y=df['walk_score'][df['cluster'] == 5],\n",
    "                    mode='markers',\n",
    "                    name='Cluster 5',\n",
    "                    text=df['msa_name'][df['cluster'] == 5],\n",
    "                    marker=dict(symbol='circle',\n",
    "                                sizemode='diameter',\n",
    "                                sizeref=0.85,\n",
    "                                size=df['population'][df['cluster'] == 5],\n",
    "                                line=dict(width=2),))\n",
    "\n",
    "\n",
    "\n",
    "trace6= go.Scatter(x=df['employment'][df['cluster'] == 6],\n",
    "                    y=df['walk_score'][df['cluster'] == 6],\n",
    "                    mode='markers',\n",
    "                    name='Cluster 6',\n",
    "                    text=df['msa_name'][df['cluster'] == 6],\n",
    "                    marker=dict(symbol='circle',\n",
    "                                sizemode='diameter',\n",
    "                                sizeref=0.85,\n",
    "                                size=df['population'][df['cluster'] == 6],\n",
    "                                line=dict(width=2),))\n",
    "\n",
    "\n",
    "\n",
    "trace7= go.Scatter(x=df['employment'][df['cluster'] == 7],\n",
    "                    y=df['walk_score'][df['cluster'] == 7],\n",
    "                    mode='markers',\n",
    "                    name='Cluster 7',\n",
    "                    text=df['msa_name'][df['cluster'] == 7],\n",
    "                    marker=dict(symbol='circle',\n",
    "                                sizemode='diameter',\n",
    "                                sizeref=0.85,\n",
    "                                size=df['population'][df['cluster'] == 7],\n",
    "                                line=dict(width=2),))\n",
    "\n",
    "\n",
    "\n",
    "trace8= go.Scatter(x=df['employment'][df['cluster'] == 8],\n",
    "                    y=df['walk_score'][df['cluster'] == 8],\n",
    "                    mode='markers',\n",
    "                    name='Cluster 8',\n",
    "                    text=df['msa_name'][df['cluster'] == 8],\n",
    "                    marker=dict(symbol='circle',\n",
    "                                sizemode='diameter',\n",
    "                                sizeref=0.85,\n",
    "                                size=df['population'][df['cluster'] == 8],\n",
    "                                line=dict(width=2),))\n",
    "\n",
    "\n",
    "\n",
    "\n",
    "trace9= go.Scatter(x=df['employment'][df['cluster'] == 9],\n",
    "                    y=df['walk_score'][df['cluster'] == 9],\n",
    "                    mode='markers',\n",
    "                    name='Cluster 9',\n",
    "                    text=df['msa_name'][df['cluster'] == 9],\n",
    "                    marker=dict(symbol='circle',\n",
    "                                sizemode='diameter',\n",
    "                                sizeref=0.85,\n",
    "                                size=df['population'][df['cluster'] == 9],\n",
    "                                line=dict(width=2),))\n",
    "\n",
    "\n",
    "trace10= go.Scatter(x=df['employment'][df['cluster'] == 10],\n",
    "                    y=df['walk_score'][df['cluster'] == 10],\n",
    "                    mode='markers',\n",
    "                    name='Cluster 10',\n",
    "                    text=df['msa_name'][df['cluster'] == 10],\n",
    "                    marker=dict(symbol='circle',\n",
    "                                sizemode='diameter',\n",
    "                                sizeref=0.85,\n",
    "                                size=df['population'][df['cluster'] == 10],\n",
    "                                line=dict(width=2),))\n",
    "\n",
    "\n",
    "\n",
    "\n",
    "trace11 = go.Scatter(x=df['employment'][df['cluster'] == 11],\n",
    "                    y=df['walk_score'][df['cluster'] == 11],\n",
    "                    mode='markers',\n",
    "                    name='Cluster 11',\n",
    "                    text=df['msa_name'][df['cluster'] == 11],\n",
    "                    marker=dict(symbol='circle',\n",
    "                                sizemode='diameter',\n",
    "                                sizeref=0.85,\n",
    "                                size=df['population'][df['cluster'] == 11],\n",
    "                                line=dict(width=2),))\n",
    "\n",
    "\n",
    "trace12 = go.Scatter(x=df['employment'][df['cluster'] == 12],\n",
    "                    y=df['walk_score'][df['cluster'] == 12],\n",
    "                    mode='markers',\n",
    "                    name='Cluster 12',\n",
    "                    text=df['msa_name'][df['cluster'] == 12],\n",
    "                    marker=dict(symbol='circle',\n",
    "                                sizemode='diameter',\n",
    "                                sizeref=0.85,\n",
    "                                size=df['population'][df['cluster'] == 12],\n",
    "                                line=dict(width=2),))\n",
    "\n",
    "trace13 = go.Scatter(x=df['employment'][df['cluster'] == 13],\n",
    "                    y=df['walk_score'][df['cluster'] == 13],\n",
    "                    mode='markers',\n",
    "                    name='Cluster 13',\n",
    "                    text=df['msa_name'][df['cluster'] == 13],\n",
    "                    marker=dict(symbol='circle',\n",
    "                                sizemode='diameter',\n",
    "                                sizeref=0.85,\n",
    "                                size=df['population'][df['cluster'] == 13],\n",
    "                                line=dict(width=2),))\n",
    "\n",
    "trace14= go.Scatter(x=df['employment'][df['cluster'] == 14],\n",
    "                    y=df['walk_score'][df['cluster'] == 14],\n",
    "                    mode='markers',\n",
    "                    name='Cluster 14',\n",
    "                    text=df['msa_name'][df['cluster'] == 14],\n",
    "                    marker=dict(symbol='circle',\n",
    "                                sizemode='diameter',\n",
    "                                sizeref=0.85,\n",
    "                                size=df['population'][df['cluster'] == 14],\n",
    "                                line=dict(width=2),))\n",
    "\n",
    "\n",
    "trace15= go.Scatter(x=df['employment'][df['cluster'] == 15],\n",
    "                    y=df['walk_score'][df['cluster'] == 15],\n",
    "                    mode='markers',\n",
    "                    name='Cluster 15',\n",
    "                    text=df['msa_name'][df['cluster'] == 15],\n",
    "                    marker=dict(symbol='circle',\n",
    "                                sizemode='diameter',\n",
    "                                sizeref=0.85,\n",
    "                                size=df['population'][df['cluster'] == 15],\n",
    "                                line=dict(width=2),))\n",
    "\n",
    "\n",
    "\n",
    "\n",
    "\n",
    "\n",
    "data = [trace0,trace1, trace2, trace3, trace4,trace5,trace6,trace7,trace8,trace9,trace10,trace11,trace12,trace13,trace14,trace15]\n",
    "layout = go.Layout(\n",
    "title='Indicators and Clusters',\n",
    "xaxis=dict(title='Employment',\n",
    "           gridcolor='rgb(255, 255, 255)',\n",
    "           type='log',\n",
    "           zerolinewidth=1,\n",
    "           ticklen=5,\n",
    "           gridwidth=2,),\n",
    "yaxis=dict(title='Walkability',\n",
    "           gridcolor='rgb(255, 255, 255)',\n",
    "           zerolinewidth=1,\n",
    "           ticklen=5,\n",
    "           gridwidth=2,),\n",
    "    paper_bgcolor='rgb(243, 243, 243)',\n",
    "    plot_bgcolor='rgb(243, 243, 243)',)\n",
    "\n",
    "fig = go.Figure(data=data, layout=layout)\n",
    "py.iplot(fig, filename='INDICATORS_CLUSTERS')"
   ]
  },
  {
   "cell_type": "markdown",
   "metadata": {},
   "source": [
    "# SEE CLUSTER IN THIS PLOTLY ACCOUNT \n",
    "\n",
    "\n",
    "\n",
    "https://plot.ly/~karen.belita/2/indicators-and-clusters/  <br />\n",
    "https://plot.ly/~karen.belita/2.embed"
   ]
  },
  {
   "cell_type": "code",
   "execution_count": null,
   "metadata": {
    "collapsed": true
   },
   "outputs": [],
   "source": []
  },
  {
   "cell_type": "code",
   "execution_count": null,
   "metadata": {
    "collapsed": true
   },
   "outputs": [],
   "source": []
  },
  {
   "cell_type": "code",
   "execution_count": null,
   "metadata": {
    "collapsed": true
   },
   "outputs": [],
   "source": []
  }
 ],
 "metadata": {
  "kernelspec": {
   "display_name": "Python 2",
   "language": "python",
   "name": "python2"
  },
  "language_info": {
   "codemirror_mode": {
    "name": "ipython",
    "version": 2
   },
   "file_extension": ".py",
   "mimetype": "text/x-python",
   "name": "python",
   "nbconvert_exporter": "python",
   "pygments_lexer": "ipython2",
   "version": "2.7.11"
  }
 },
 "nbformat": 4,
 "nbformat_minor": 0
}
