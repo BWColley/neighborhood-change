{
 "cells": [
  {
   "cell_type": "markdown",
   "metadata": {
    "collapsed": true
   },
   "source": [
    "(c) Karen Belita  <br /> \n",
    "Team Neighborhood Change <br /> \n",
    "Last Updated 9/7/2016 <br /> \n",
    "\n",
    "# NOTEBOOK: INGESTION for CBSA-CITY-STATE\n",
    "To create a table that has the CBSA code for City and State abbreviation that belongs to that MSA that.\n",
    "MSA = Metropolitan Statistical Area\n",
    "\n",
    "\n",
    "## OUTPUT\n",
    "MSA_principal.xls - contains cbsa code and corresponding msa, and the cities that belong to it (fips state code only) <br /> \n",
    "MSA_STATE.xls - contains state abbreviation and its fips code\n",
    "\n",
    "\n",
    "\n"
   ]
  },
  {
   "cell_type": "markdown",
   "metadata": {},
   "source": [
    "## DEPENDENCIES"
   ]
  },
  {
   "cell_type": "code",
   "execution_count": 6,
   "metadata": {
    "collapsed": true
   },
   "outputs": [],
   "source": [
    "import os\n",
    "import requests\n",
    "import pandas as pd\n",
    "import csv\n",
    "import urllib2\n",
    "import openpyxl\n",
    "import csv"
   ]
  },
  {
   "cell_type": "markdown",
   "metadata": {},
   "source": [
    "# INGESTION"
   ]
  },
  {
   "cell_type": "markdown",
   "metadata": {},
   "source": [
    "### DEFINE FUNCTIONS"
   ]
  },
  {
   "cell_type": "markdown",
   "metadata": {},
   "source": [
    "Define function that downloads census xls file that contains state abbreviation and state fips code"
   ]
  },
  {
   "cell_type": "code",
   "execution_count": 3,
   "metadata": {
    "collapsed": true
   },
   "outputs": [],
   "source": [
    "def xls_state():\n",
    "\n",
    "    path_year = os.path.join(os.getcwd())\n",
    "    file_name = path_year + \"/\" + \"MSA_STATE\"+ \".xls\" \n",
    "    url= \"https://www.census.gov/2010census/xls/fips_codes_website.xls\"\n",
    "\n",
    "    f = urllib2.urlopen(url)\n",
    "    data = f.read()\n",
    "    with open(file_name, \"wb\") as code:\n",
    "        code.write(data)\n",
    "    \n",
    "\n"
   ]
  },
  {
   "cell_type": "markdown",
   "metadata": {},
   "source": [
    "Define function taht downloads census xls file that contains cbsa and the corresponding msa name  and principal cities that belong to that msa"
   ]
  },
  {
   "cell_type": "code",
   "execution_count": 4,
   "metadata": {
    "collapsed": false
   },
   "outputs": [],
   "source": [
    "def xls_principal():\n",
    "\n",
    "    path_year = os.path.join(os.getcwd())\n",
    "    file_name = path_year + \"/\" + \"MSA_principal\"+ \".xls\" \n",
    "    url= \"http://www.census.gov/population/metro/files/lists/2015/List2.xls\"\n",
    "\n",
    "    f = urllib2.urlopen(url)\n",
    "    data = f.read()\n",
    "    with open(file_name, \"wb\") as code:\n",
    "        code.write(data)\n",
    "    \n",
    "    \n"
   ]
  },
  {
   "cell_type": "markdown",
   "metadata": {},
   "source": [
    "### MAIN EXECUTION"
   ]
  },
  {
   "cell_type": "code",
   "execution_count": 5,
   "metadata": {
    "collapsed": false
   },
   "outputs": [],
   "source": [
    "\n",
    "def main():\n",
    "    \"\"\"\n",
    "    Main execution\n",
    "    \"\"\"\n",
    "    xls_state()       \n",
    "    xls_principal() \n",
    "\n",
    "\n",
    "#######################\n",
    "### Execution ########\n",
    "#######################\n",
    "\n",
    "if __name__ == '__main__':\n",
    "    main()"
   ]
  },
  {
   "cell_type": "code",
   "execution_count": null,
   "metadata": {
    "collapsed": true
   },
   "outputs": [],
   "source": []
  }
 ],
 "metadata": {
  "kernelspec": {
   "display_name": "Python 2",
   "language": "python",
   "name": "python2"
  },
  "language_info": {
   "codemirror_mode": {
    "name": "ipython",
    "version": 2
   },
   "file_extension": ".py",
   "mimetype": "text/x-python",
   "name": "python",
   "nbconvert_exporter": "python",
   "pygments_lexer": "ipython2",
   "version": "2.7.11"
  }
 },
 "nbformat": 4,
 "nbformat_minor": 0
}
