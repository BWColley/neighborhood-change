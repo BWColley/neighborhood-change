{
 "cells": [
  {
   "cell_type": "markdown",
   "metadata": {
    "collapsed": true
   },
   "source": [
    "(c) Karen Belita  <br /> \n",
    "Team Neighborhood Change <br /> \n",
    "Last Updated 9/7/2016 <br /> \n",
    "\n",
    "# NOTEBOOK: Wrangling for CBSA-CITY-STATE\n",
    "To create a table that has the CBSA code for City and State abbreviation that belongs to that MSA that.\n",
    "MSA = Metropolitan Statistical Area\n",
    "\n",
    "\n",
    "### OUTPUT\n",
    "CBSA-CITY_STATE.csv  --- for ing_wr_walkscore and ing_wr_FTA\n"
   ]
  },
  {
   "cell_type": "markdown",
   "metadata": {},
   "source": [
    "### DEPENDENCIES\n",
    "* MSA_principal.xls\n",
    "* MSA_STATE.xls"
   ]
  },
  {
   "cell_type": "code",
   "execution_count": 6,
   "metadata": {
    "collapsed": true
   },
   "outputs": [],
   "source": [
    "import os\n",
    "import requests\n",
    "import pandas as pd\n",
    "import csv\n",
    "import urllib2\n",
    "import openpyxl\n",
    "import csv\n",
    "import xlrd\n",
    "import numpy as np"
   ]
  },
  {
   "cell_type": "markdown",
   "metadata": {
    "collapsed": true
   },
   "source": [
    "# WRANGLING"
   ]
  },
  {
   "cell_type": "markdown",
   "metadata": {},
   "source": [
    "### Part 1\n",
    "* Read xls file into csv and read csv into variable 'df' <br /> \n",
    "* Relabel columns <br /> \n",
    "* Drop unnecessary columns to create variable 'df_ABB'\n",
    "* 'df_ABB' contains CBSA code of the MSA, title for that CBSA, principal city that MSA and the State it belongs in State FIPS format\n"
   ]
  },
  {
   "cell_type": "code",
   "execution_count": 8,
   "metadata": {
    "collapsed": false
   },
   "outputs": [],
   "source": [
    "xls_file = os.path.join(os.getcwd(), 'MSA_principal.xls')\n",
    "\n",
    "data_xls = pd.read_excel(xls_file, 'List 2', index_col=None)\n",
    "data_xls.to_csv('principal.csv', encoding='utf-8')"
   ]
  },
  {
   "cell_type": "code",
   "execution_count": 9,
   "metadata": {
    "collapsed": true
   },
   "outputs": [],
   "source": [
    "df = pd.read_csv('principal.csv')"
   ]
  },
  {
   "cell_type": "code",
   "execution_count": 10,
   "metadata": {
    "collapsed": true
   },
   "outputs": [],
   "source": [
    "df.columns = [\"DELETE\", \"CBSA\", \"CBSA_TITLE\", \"CBSA TYPE\", \"PRINCIPAL\", \"FIPS_STATE\", \"FIPS_PLACE\"]"
   ]
  },
  {
   "cell_type": "code",
   "execution_count": 14,
   "metadata": {
    "collapsed": false
   },
   "outputs": [
    {
     "data": {
      "text/html": [
       "<div>\n",
       "<table border=\"1\" class=\"dataframe\">\n",
       "  <thead>\n",
       "    <tr style=\"text-align: right;\">\n",
       "      <th></th>\n",
       "      <th>DELETE</th>\n",
       "      <th>CBSA</th>\n",
       "      <th>CBSA_TITLE</th>\n",
       "      <th>CBSA TYPE</th>\n",
       "      <th>PRINCIPAL</th>\n",
       "      <th>FIPS_STATE</th>\n",
       "      <th>FIPS_PLACE</th>\n",
       "    </tr>\n",
       "  </thead>\n",
       "  <tbody>\n",
       "    <tr>\n",
       "      <th>0</th>\n",
       "      <td>0</td>\n",
       "      <td>List 2. PRINCIPAL CITIES OF METROPOLITAN AND M...</td>\n",
       "      <td>NaN</td>\n",
       "      <td>NaN</td>\n",
       "      <td>NaN</td>\n",
       "      <td>NaN</td>\n",
       "      <td>NaN</td>\n",
       "    </tr>\n",
       "    <tr>\n",
       "      <th>1</th>\n",
       "      <td>1</td>\n",
       "      <td>CBSA Code</td>\n",
       "      <td>CBSA Title</td>\n",
       "      <td>Metropolitan/Micropolitan Statistical Area</td>\n",
       "      <td>Principal City Name</td>\n",
       "      <td>FIPS State Code</td>\n",
       "      <td>FIPS Place Code</td>\n",
       "    </tr>\n",
       "    <tr>\n",
       "      <th>2</th>\n",
       "      <td>2</td>\n",
       "      <td>10100</td>\n",
       "      <td>Aberdeen, SD</td>\n",
       "      <td>Micropolitan Statistical Area</td>\n",
       "      <td>Aberdeen</td>\n",
       "      <td>46</td>\n",
       "      <td>00100</td>\n",
       "    </tr>\n",
       "    <tr>\n",
       "      <th>3</th>\n",
       "      <td>3</td>\n",
       "      <td>10140</td>\n",
       "      <td>Aberdeen, WA</td>\n",
       "      <td>Micropolitan Statistical Area</td>\n",
       "      <td>Aberdeen</td>\n",
       "      <td>53</td>\n",
       "      <td>00100</td>\n",
       "    </tr>\n",
       "    <tr>\n",
       "      <th>4</th>\n",
       "      <td>4</td>\n",
       "      <td>10180</td>\n",
       "      <td>Abilene, TX</td>\n",
       "      <td>Metropolitan Statistical Area</td>\n",
       "      <td>Abilene</td>\n",
       "      <td>48</td>\n",
       "      <td>01000</td>\n",
       "    </tr>\n",
       "    <tr>\n",
       "      <th>5</th>\n",
       "      <td>5</td>\n",
       "      <td>10220</td>\n",
       "      <td>Ada, OK</td>\n",
       "      <td>Micropolitan Statistical Area</td>\n",
       "      <td>Ada</td>\n",
       "      <td>40</td>\n",
       "      <td>00200</td>\n",
       "    </tr>\n",
       "    <tr>\n",
       "      <th>6</th>\n",
       "      <td>6</td>\n",
       "      <td>10260</td>\n",
       "      <td>Adjuntas, PR</td>\n",
       "      <td>Micropolitan Statistical Area</td>\n",
       "      <td>Adjuntas</td>\n",
       "      <td>72</td>\n",
       "      <td>00358</td>\n",
       "    </tr>\n",
       "    <tr>\n",
       "      <th>7</th>\n",
       "      <td>7</td>\n",
       "      <td>10300</td>\n",
       "      <td>Adrian, MI</td>\n",
       "      <td>Micropolitan Statistical Area</td>\n",
       "      <td>Adrian</td>\n",
       "      <td>26</td>\n",
       "      <td>00440</td>\n",
       "    </tr>\n",
       "    <tr>\n",
       "      <th>8</th>\n",
       "      <td>8</td>\n",
       "      <td>10380</td>\n",
       "      <td>Aguadilla-Isabela, PR</td>\n",
       "      <td>Metropolitan Statistical Area</td>\n",
       "      <td>Aguadilla</td>\n",
       "      <td>72</td>\n",
       "      <td>00745</td>\n",
       "    </tr>\n",
       "    <tr>\n",
       "      <th>9</th>\n",
       "      <td>9</td>\n",
       "      <td>10380</td>\n",
       "      <td>Aguadilla-Isabela, PR</td>\n",
       "      <td>Metropolitan Statistical Area</td>\n",
       "      <td>Isabela</td>\n",
       "      <td>72</td>\n",
       "      <td>36478</td>\n",
       "    </tr>\n",
       "  </tbody>\n",
       "</table>\n",
       "</div>"
      ],
      "text/plain": [
       "   DELETE                                               CBSA  \\\n",
       "0       0  List 2. PRINCIPAL CITIES OF METROPOLITAN AND M...   \n",
       "1       1                                          CBSA Code   \n",
       "2       2                                              10100   \n",
       "3       3                                              10140   \n",
       "4       4                                              10180   \n",
       "5       5                                              10220   \n",
       "6       6                                              10260   \n",
       "7       7                                              10300   \n",
       "8       8                                              10380   \n",
       "9       9                                              10380   \n",
       "\n",
       "              CBSA_TITLE                                   CBSA TYPE  \\\n",
       "0                    NaN                                         NaN   \n",
       "1             CBSA Title  Metropolitan/Micropolitan Statistical Area   \n",
       "2           Aberdeen, SD               Micropolitan Statistical Area   \n",
       "3           Aberdeen, WA               Micropolitan Statistical Area   \n",
       "4            Abilene, TX               Metropolitan Statistical Area   \n",
       "5                Ada, OK               Micropolitan Statistical Area   \n",
       "6           Adjuntas, PR               Micropolitan Statistical Area   \n",
       "7             Adrian, MI               Micropolitan Statistical Area   \n",
       "8  Aguadilla-Isabela, PR               Metropolitan Statistical Area   \n",
       "9  Aguadilla-Isabela, PR               Metropolitan Statistical Area   \n",
       "\n",
       "             PRINCIPAL       FIPS_STATE       FIPS_PLACE  \n",
       "0                  NaN              NaN              NaN  \n",
       "1  Principal City Name  FIPS State Code  FIPS Place Code  \n",
       "2             Aberdeen               46            00100  \n",
       "3             Aberdeen               53            00100  \n",
       "4              Abilene               48            01000  \n",
       "5                  Ada               40            00200  \n",
       "6             Adjuntas               72            00358  \n",
       "7               Adrian               26            00440  \n",
       "8            Aguadilla               72            00745  \n",
       "9              Isabela               72            36478  "
      ]
     },
     "execution_count": 14,
     "metadata": {},
     "output_type": "execute_result"
    }
   ],
   "source": [
    "df.head(10)"
   ]
  },
  {
   "cell_type": "code",
   "execution_count": 15,
   "metadata": {
    "collapsed": true
   },
   "outputs": [],
   "source": [
    "df = df.drop([0,1]) ## drop rows"
   ]
  },
  {
   "cell_type": "code",
   "execution_count": 16,
   "metadata": {
    "collapsed": false
   },
   "outputs": [
    {
     "data": {
      "text/html": [
       "<div>\n",
       "<table border=\"1\" class=\"dataframe\">\n",
       "  <thead>\n",
       "    <tr style=\"text-align: right;\">\n",
       "      <th></th>\n",
       "      <th>DELETE</th>\n",
       "      <th>CBSA</th>\n",
       "      <th>CBSA_TITLE</th>\n",
       "      <th>CBSA TYPE</th>\n",
       "      <th>PRINCIPAL</th>\n",
       "      <th>FIPS_STATE</th>\n",
       "      <th>FIPS_PLACE</th>\n",
       "    </tr>\n",
       "  </thead>\n",
       "  <tbody>\n",
       "    <tr>\n",
       "      <th>2</th>\n",
       "      <td>2</td>\n",
       "      <td>10100</td>\n",
       "      <td>Aberdeen, SD</td>\n",
       "      <td>Micropolitan Statistical Area</td>\n",
       "      <td>Aberdeen</td>\n",
       "      <td>46</td>\n",
       "      <td>00100</td>\n",
       "    </tr>\n",
       "    <tr>\n",
       "      <th>3</th>\n",
       "      <td>3</td>\n",
       "      <td>10140</td>\n",
       "      <td>Aberdeen, WA</td>\n",
       "      <td>Micropolitan Statistical Area</td>\n",
       "      <td>Aberdeen</td>\n",
       "      <td>53</td>\n",
       "      <td>00100</td>\n",
       "    </tr>\n",
       "    <tr>\n",
       "      <th>4</th>\n",
       "      <td>4</td>\n",
       "      <td>10180</td>\n",
       "      <td>Abilene, TX</td>\n",
       "      <td>Metropolitan Statistical Area</td>\n",
       "      <td>Abilene</td>\n",
       "      <td>48</td>\n",
       "      <td>01000</td>\n",
       "    </tr>\n",
       "    <tr>\n",
       "      <th>5</th>\n",
       "      <td>5</td>\n",
       "      <td>10220</td>\n",
       "      <td>Ada, OK</td>\n",
       "      <td>Micropolitan Statistical Area</td>\n",
       "      <td>Ada</td>\n",
       "      <td>40</td>\n",
       "      <td>00200</td>\n",
       "    </tr>\n",
       "    <tr>\n",
       "      <th>6</th>\n",
       "      <td>6</td>\n",
       "      <td>10260</td>\n",
       "      <td>Adjuntas, PR</td>\n",
       "      <td>Micropolitan Statistical Area</td>\n",
       "      <td>Adjuntas</td>\n",
       "      <td>72</td>\n",
       "      <td>00358</td>\n",
       "    </tr>\n",
       "  </tbody>\n",
       "</table>\n",
       "</div>"
      ],
      "text/plain": [
       "   DELETE   CBSA    CBSA_TITLE                      CBSA TYPE PRINCIPAL  \\\n",
       "2       2  10100  Aberdeen, SD  Micropolitan Statistical Area  Aberdeen   \n",
       "3       3  10140  Aberdeen, WA  Micropolitan Statistical Area  Aberdeen   \n",
       "4       4  10180   Abilene, TX  Metropolitan Statistical Area   Abilene   \n",
       "5       5  10220       Ada, OK  Micropolitan Statistical Area       Ada   \n",
       "6       6  10260  Adjuntas, PR  Micropolitan Statistical Area  Adjuntas   \n",
       "\n",
       "  FIPS_STATE FIPS_PLACE  \n",
       "2         46      00100  \n",
       "3         53      00100  \n",
       "4         48      01000  \n",
       "5         40      00200  \n",
       "6         72      00358  "
      ]
     },
     "execution_count": 16,
     "metadata": {},
     "output_type": "execute_result"
    }
   ],
   "source": [
    "df.head()"
   ]
  },
  {
   "cell_type": "code",
   "execution_count": 17,
   "metadata": {
    "collapsed": false
   },
   "outputs": [],
   "source": [
    "df.drop(df.columns[[0]], axis=1, inplace=True) ## remove column 0"
   ]
  },
  {
   "cell_type": "code",
   "execution_count": 18,
   "metadata": {
    "collapsed": false
   },
   "outputs": [],
   "source": [
    "df[\"FIPS\"] = df[\"FIPS_STATE\"].map(str) + df[\"FIPS_PLACE\"].map(str) ## creates new wrong column called MSA\n"
   ]
  },
  {
   "cell_type": "code",
   "execution_count": 19,
   "metadata": {
    "collapsed": false
   },
   "outputs": [
    {
     "data": {
      "text/html": [
       "<div>\n",
       "<table border=\"1\" class=\"dataframe\">\n",
       "  <thead>\n",
       "    <tr style=\"text-align: right;\">\n",
       "      <th></th>\n",
       "      <th>CBSA</th>\n",
       "      <th>CBSA_TITLE</th>\n",
       "      <th>CBSA TYPE</th>\n",
       "      <th>PRINCIPAL</th>\n",
       "      <th>FIPS_STATE</th>\n",
       "      <th>FIPS_PLACE</th>\n",
       "      <th>FIPS</th>\n",
       "    </tr>\n",
       "  </thead>\n",
       "  <tbody>\n",
       "    <tr>\n",
       "      <th>2</th>\n",
       "      <td>10100</td>\n",
       "      <td>Aberdeen, SD</td>\n",
       "      <td>Micropolitan Statistical Area</td>\n",
       "      <td>Aberdeen</td>\n",
       "      <td>46</td>\n",
       "      <td>00100</td>\n",
       "      <td>4600100</td>\n",
       "    </tr>\n",
       "    <tr>\n",
       "      <th>3</th>\n",
       "      <td>10140</td>\n",
       "      <td>Aberdeen, WA</td>\n",
       "      <td>Micropolitan Statistical Area</td>\n",
       "      <td>Aberdeen</td>\n",
       "      <td>53</td>\n",
       "      <td>00100</td>\n",
       "      <td>5300100</td>\n",
       "    </tr>\n",
       "    <tr>\n",
       "      <th>4</th>\n",
       "      <td>10180</td>\n",
       "      <td>Abilene, TX</td>\n",
       "      <td>Metropolitan Statistical Area</td>\n",
       "      <td>Abilene</td>\n",
       "      <td>48</td>\n",
       "      <td>01000</td>\n",
       "      <td>4801000</td>\n",
       "    </tr>\n",
       "    <tr>\n",
       "      <th>5</th>\n",
       "      <td>10220</td>\n",
       "      <td>Ada, OK</td>\n",
       "      <td>Micropolitan Statistical Area</td>\n",
       "      <td>Ada</td>\n",
       "      <td>40</td>\n",
       "      <td>00200</td>\n",
       "      <td>4000200</td>\n",
       "    </tr>\n",
       "    <tr>\n",
       "      <th>6</th>\n",
       "      <td>10260</td>\n",
       "      <td>Adjuntas, PR</td>\n",
       "      <td>Micropolitan Statistical Area</td>\n",
       "      <td>Adjuntas</td>\n",
       "      <td>72</td>\n",
       "      <td>00358</td>\n",
       "      <td>7200358</td>\n",
       "    </tr>\n",
       "  </tbody>\n",
       "</table>\n",
       "</div>"
      ],
      "text/plain": [
       "    CBSA    CBSA_TITLE                      CBSA TYPE PRINCIPAL FIPS_STATE  \\\n",
       "2  10100  Aberdeen, SD  Micropolitan Statistical Area  Aberdeen         46   \n",
       "3  10140  Aberdeen, WA  Micropolitan Statistical Area  Aberdeen         53   \n",
       "4  10180   Abilene, TX  Metropolitan Statistical Area   Abilene         48   \n",
       "5  10220       Ada, OK  Micropolitan Statistical Area       Ada         40   \n",
       "6  10260  Adjuntas, PR  Micropolitan Statistical Area  Adjuntas         72   \n",
       "\n",
       "  FIPS_PLACE     FIPS  \n",
       "2      00100  4600100  \n",
       "3      00100  5300100  \n",
       "4      01000  4801000  \n",
       "5      00200  4000200  \n",
       "6      00358  7200358  "
      ]
     },
     "execution_count": 19,
     "metadata": {},
     "output_type": "execute_result"
    }
   ],
   "source": [
    "df.head()"
   ]
  },
  {
   "cell_type": "code",
   "execution_count": 24,
   "metadata": {
    "collapsed": false
   },
   "outputs": [],
   "source": [
    "df_ABB = df.drop(df.columns[[2,5,6]], axis=1) ## remove FIPS and FIPS_PLACE"
   ]
  },
  {
   "cell_type": "code",
   "execution_count": 25,
   "metadata": {
    "collapsed": false
   },
   "outputs": [],
   "source": [
    "df_ABB.drop(df_ABB.tail(4).index, inplace=True) ## remove the bottom"
   ]
  },
  {
   "cell_type": "code",
   "execution_count": 26,
   "metadata": {
    "collapsed": false
   },
   "outputs": [
    {
     "data": {
      "text/html": [
       "<div>\n",
       "<table border=\"1\" class=\"dataframe\">\n",
       "  <thead>\n",
       "    <tr style=\"text-align: right;\">\n",
       "      <th></th>\n",
       "      <th>CBSA</th>\n",
       "      <th>CBSA_TITLE</th>\n",
       "      <th>PRINCIPAL</th>\n",
       "      <th>FIPS_STATE</th>\n",
       "    </tr>\n",
       "  </thead>\n",
       "  <tbody>\n",
       "    <tr>\n",
       "      <th>1262</th>\n",
       "      <td>49660</td>\n",
       "      <td>Youngstown-Warren-Boardman, OH-PA</td>\n",
       "      <td>Youngstown</td>\n",
       "      <td>39</td>\n",
       "    </tr>\n",
       "    <tr>\n",
       "      <th>1263</th>\n",
       "      <td>49700</td>\n",
       "      <td>Yuba City, CA</td>\n",
       "      <td>Yuba City</td>\n",
       "      <td>06</td>\n",
       "    </tr>\n",
       "    <tr>\n",
       "      <th>1264</th>\n",
       "      <td>49740</td>\n",
       "      <td>Yuma, AZ</td>\n",
       "      <td>Yuma</td>\n",
       "      <td>04</td>\n",
       "    </tr>\n",
       "    <tr>\n",
       "      <th>1265</th>\n",
       "      <td>49780</td>\n",
       "      <td>Zanesville, OH</td>\n",
       "      <td>Zanesville</td>\n",
       "      <td>39</td>\n",
       "    </tr>\n",
       "    <tr>\n",
       "      <th>1266</th>\n",
       "      <td>49820</td>\n",
       "      <td>Zapata, TX</td>\n",
       "      <td>Zapata</td>\n",
       "      <td>48</td>\n",
       "    </tr>\n",
       "  </tbody>\n",
       "</table>\n",
       "</div>"
      ],
      "text/plain": [
       "       CBSA                         CBSA_TITLE   PRINCIPAL FIPS_STATE\n",
       "1262  49660  Youngstown-Warren-Boardman, OH-PA  Youngstown         39\n",
       "1263  49700                      Yuba City, CA   Yuba City         06\n",
       "1264  49740                           Yuma, AZ        Yuma         04\n",
       "1265  49780                     Zanesville, OH  Zanesville         39\n",
       "1266  49820                         Zapata, TX      Zapata         48"
      ]
     },
     "execution_count": 26,
     "metadata": {},
     "output_type": "execute_result"
    }
   ],
   "source": [
    "df_ABB.tail()"
   ]
  },
  {
   "cell_type": "code",
   "execution_count": 23,
   "metadata": {
    "collapsed": false
   },
   "outputs": [
    {
     "data": {
      "text/html": [
       "<div>\n",
       "<table border=\"1\" class=\"dataframe\">\n",
       "  <thead>\n",
       "    <tr style=\"text-align: right;\">\n",
       "      <th></th>\n",
       "      <th>CBSA</th>\n",
       "      <th>CBSA_TITLE</th>\n",
       "      <th>CBSA TYPE</th>\n",
       "      <th>PRINCIPAL</th>\n",
       "      <th>FIPS_STATE</th>\n",
       "    </tr>\n",
       "  </thead>\n",
       "  <tbody>\n",
       "    <tr>\n",
       "      <th>2</th>\n",
       "      <td>10100</td>\n",
       "      <td>Aberdeen, SD</td>\n",
       "      <td>Micropolitan Statistical Area</td>\n",
       "      <td>Aberdeen</td>\n",
       "      <td>46</td>\n",
       "    </tr>\n",
       "    <tr>\n",
       "      <th>3</th>\n",
       "      <td>10140</td>\n",
       "      <td>Aberdeen, WA</td>\n",
       "      <td>Micropolitan Statistical Area</td>\n",
       "      <td>Aberdeen</td>\n",
       "      <td>53</td>\n",
       "    </tr>\n",
       "    <tr>\n",
       "      <th>4</th>\n",
       "      <td>10180</td>\n",
       "      <td>Abilene, TX</td>\n",
       "      <td>Metropolitan Statistical Area</td>\n",
       "      <td>Abilene</td>\n",
       "      <td>48</td>\n",
       "    </tr>\n",
       "    <tr>\n",
       "      <th>5</th>\n",
       "      <td>10220</td>\n",
       "      <td>Ada, OK</td>\n",
       "      <td>Micropolitan Statistical Area</td>\n",
       "      <td>Ada</td>\n",
       "      <td>40</td>\n",
       "    </tr>\n",
       "    <tr>\n",
       "      <th>6</th>\n",
       "      <td>10260</td>\n",
       "      <td>Adjuntas, PR</td>\n",
       "      <td>Micropolitan Statistical Area</td>\n",
       "      <td>Adjuntas</td>\n",
       "      <td>72</td>\n",
       "    </tr>\n",
       "  </tbody>\n",
       "</table>\n",
       "</div>"
      ],
      "text/plain": [
       "    CBSA    CBSA_TITLE                      CBSA TYPE PRINCIPAL FIPS_STATE\n",
       "2  10100  Aberdeen, SD  Micropolitan Statistical Area  Aberdeen         46\n",
       "3  10140  Aberdeen, WA  Micropolitan Statistical Area  Aberdeen         53\n",
       "4  10180   Abilene, TX  Metropolitan Statistical Area   Abilene         48\n",
       "5  10220       Ada, OK  Micropolitan Statistical Area       Ada         40\n",
       "6  10260  Adjuntas, PR  Micropolitan Statistical Area  Adjuntas         72"
      ]
     },
     "execution_count": 23,
     "metadata": {},
     "output_type": "execute_result"
    }
   ],
   "source": [
    "df_ABB.head()"
   ]
  },
  {
   "cell_type": "markdown",
   "metadata": {},
   "source": [
    "### Part  2\n",
    "* Read xls file into csv and read csv into variable dfs_x\n",
    "* Drop unnecessary columns\n",
    "* 'dfs_x' ontains the State Abbreviation and the Fips state code\n"
   ]
  },
  {
   "cell_type": "code",
   "execution_count": 27,
   "metadata": {
    "collapsed": false
   },
   "outputs": [],
   "source": [
    "xls_state = os.path.join(os.getcwd(), 'MSA_STATE.xls')\n",
    "\n",
    "data_state= pd.read_excel(xls_state, 'cqr_universe_fixedwidth_all', index_col=None)\n",
    "data_state.to_csv('state.csv', encoding='utf-8')"
   ]
  },
  {
   "cell_type": "code",
   "execution_count": 28,
   "metadata": {
    "collapsed": false
   },
   "outputs": [],
   "source": [
    "dfs_x= pd.read_csv('state.csv')"
   ]
  },
  {
   "cell_type": "code",
   "execution_count": 29,
   "metadata": {
    "collapsed": false
   },
   "outputs": [],
   "source": [
    "dfs_x.drop(dfs_x.columns[[0,3,4,5,6,7]], axis=1, inplace=True) ## remove column 0"
   ]
  },
  {
   "cell_type": "code",
   "execution_count": 30,
   "metadata": {
    "collapsed": false
   },
   "outputs": [],
   "source": [
    "dfs_x.columns = [\"STATE_ABB\", \"FIPS_STATE\"]"
   ]
  },
  {
   "cell_type": "code",
   "execution_count": 31,
   "metadata": {
    "collapsed": false,
    "scrolled": true
   },
   "outputs": [],
   "source": [
    "dfs_x[\"FIPS_STATE\"] = dfs_x.FIPS_STATE.apply(lambda x: str(int(x)).zfill(2))"
   ]
  },
  {
   "cell_type": "code",
   "execution_count": 32,
   "metadata": {
    "collapsed": false
   },
   "outputs": [
    {
     "data": {
      "text/html": [
       "<div>\n",
       "<table border=\"1\" class=\"dataframe\">\n",
       "  <thead>\n",
       "    <tr style=\"text-align: right;\">\n",
       "      <th></th>\n",
       "      <th>STATE_ABB</th>\n",
       "      <th>FIPS_STATE</th>\n",
       "    </tr>\n",
       "  </thead>\n",
       "  <tbody>\n",
       "    <tr>\n",
       "      <th>0</th>\n",
       "      <td>AL</td>\n",
       "      <td>01</td>\n",
       "    </tr>\n",
       "    <tr>\n",
       "      <th>1</th>\n",
       "      <td>AL</td>\n",
       "      <td>01</td>\n",
       "    </tr>\n",
       "    <tr>\n",
       "      <th>2</th>\n",
       "      <td>AL</td>\n",
       "      <td>01</td>\n",
       "    </tr>\n",
       "    <tr>\n",
       "      <th>3</th>\n",
       "      <td>AL</td>\n",
       "      <td>01</td>\n",
       "    </tr>\n",
       "    <tr>\n",
       "      <th>4</th>\n",
       "      <td>AL</td>\n",
       "      <td>01</td>\n",
       "    </tr>\n",
       "  </tbody>\n",
       "</table>\n",
       "</div>"
      ],
      "text/plain": [
       "  STATE_ABB FIPS_STATE\n",
       "0        AL         01\n",
       "1        AL         01\n",
       "2        AL         01\n",
       "3        AL         01\n",
       "4        AL         01"
      ]
     },
     "execution_count": 32,
     "metadata": {},
     "output_type": "execute_result"
    }
   ],
   "source": [
    "dfs_x.head()"
   ]
  },
  {
   "cell_type": "markdown",
   "metadata": {
    "collapsed": true
   },
   "source": [
    "### Part 3\n",
    "* Merge 'df_ABB' and 'dfs_x' from part 1 and part 2\n",
    "* This merges on 'FIPS STATE'\n",
    "* Drop unnecessary columns\n",
    "* new dataframe 'df_c_abb' that contains CBSA codes of MSAs, then the city that belongs to them with the state (abbreviation) it belongs to\n",
    "* from new dataframe 'df_c_abb' create new csv called 'CBSA-CITY-STATE.csv'"
   ]
  },
  {
   "cell_type": "code",
   "execution_count": 65,
   "metadata": {
    "collapsed": true
   },
   "outputs": [],
   "source": [
    "df_c_abb = pd.merge(df_ABB, dfs_x, how = \"left\", on = \"FIPS_STATE\") "
   ]
  },
  {
   "cell_type": "code",
   "execution_count": 66,
   "metadata": {
    "collapsed": false
   },
   "outputs": [
    {
     "name": "stderr",
     "output_type": "stream",
     "text": [
      "/Users/kbelita/anaconda/lib/python2.7/site-packages/ipykernel/__main__.py:1: FutureWarning: the take_last=True keyword is deprecated, use keep='last' instead\n",
      "  if __name__ == '__main__':\n"
     ]
    }
   ],
   "source": [
    "df_c_abb = df_c_abb.drop_duplicates(take_last=True) ## REMOVE DUPLICATES"
   ]
  },
  {
   "cell_type": "code",
   "execution_count": 67,
   "metadata": {
    "collapsed": false
   },
   "outputs": [
    {
     "data": {
      "text/html": [
       "<div>\n",
       "<table border=\"1\" class=\"dataframe\">\n",
       "  <thead>\n",
       "    <tr style=\"text-align: right;\">\n",
       "      <th></th>\n",
       "      <th>CBSA</th>\n",
       "      <th>CBSA_TITLE</th>\n",
       "      <th>PRINCIPAL</th>\n",
       "      <th>FIPS_STATE</th>\n",
       "      <th>STATE_ABB</th>\n",
       "    </tr>\n",
       "  </thead>\n",
       "  <tbody>\n",
       "    <tr>\n",
       "      <th>1331</th>\n",
       "      <td>10100</td>\n",
       "      <td>Aberdeen, SD</td>\n",
       "      <td>Aberdeen</td>\n",
       "      <td>46</td>\n",
       "      <td>SD</td>\n",
       "    </tr>\n",
       "    <tr>\n",
       "      <th>1702</th>\n",
       "      <td>10140</td>\n",
       "      <td>Aberdeen, WA</td>\n",
       "      <td>Aberdeen</td>\n",
       "      <td>53</td>\n",
       "      <td>WA</td>\n",
       "    </tr>\n",
       "    <tr>\n",
       "      <th>3341</th>\n",
       "      <td>10180</td>\n",
       "      <td>Abilene, TX</td>\n",
       "      <td>Abilene</td>\n",
       "      <td>48</td>\n",
       "      <td>TX</td>\n",
       "    </tr>\n",
       "    <tr>\n",
       "      <th>4165</th>\n",
       "      <td>10220</td>\n",
       "      <td>Ada, OK</td>\n",
       "      <td>Ada</td>\n",
       "      <td>40</td>\n",
       "      <td>OK</td>\n",
       "    </tr>\n",
       "    <tr>\n",
       "      <th>4505</th>\n",
       "      <td>10260</td>\n",
       "      <td>Adjuntas, PR</td>\n",
       "      <td>Adjuntas</td>\n",
       "      <td>72</td>\n",
       "      <td>PR</td>\n",
       "    </tr>\n",
       "  </tbody>\n",
       "</table>\n",
       "</div>"
      ],
      "text/plain": [
       "       CBSA    CBSA_TITLE PRINCIPAL FIPS_STATE STATE_ABB\n",
       "1331  10100  Aberdeen, SD  Aberdeen         46        SD\n",
       "1702  10140  Aberdeen, WA  Aberdeen         53        WA\n",
       "3341  10180   Abilene, TX   Abilene         48        TX\n",
       "4165  10220       Ada, OK       Ada         40        OK\n",
       "4505  10260  Adjuntas, PR  Adjuntas         72        PR"
      ]
     },
     "execution_count": 67,
     "metadata": {},
     "output_type": "execute_result"
    }
   ],
   "source": [
    "df_c_abb.head()"
   ]
  },
  {
   "cell_type": "code",
   "execution_count": 68,
   "metadata": {
    "collapsed": true
   },
   "outputs": [],
   "source": [
    "df_c_abb.reset_index(level=0, inplace=True) ## reset"
   ]
  },
  {
   "cell_type": "code",
   "execution_count": 69,
   "metadata": {
    "collapsed": false
   },
   "outputs": [
    {
     "data": {
      "text/html": [
       "<div>\n",
       "<table border=\"1\" class=\"dataframe\">\n",
       "  <thead>\n",
       "    <tr style=\"text-align: right;\">\n",
       "      <th></th>\n",
       "      <th>index</th>\n",
       "      <th>CBSA</th>\n",
       "      <th>CBSA_TITLE</th>\n",
       "      <th>PRINCIPAL</th>\n",
       "      <th>FIPS_STATE</th>\n",
       "      <th>STATE_ABB</th>\n",
       "    </tr>\n",
       "  </thead>\n",
       "  <tbody>\n",
       "    <tr>\n",
       "      <th>0</th>\n",
       "      <td>1331</td>\n",
       "      <td>10100</td>\n",
       "      <td>Aberdeen, SD</td>\n",
       "      <td>Aberdeen</td>\n",
       "      <td>46</td>\n",
       "      <td>SD</td>\n",
       "    </tr>\n",
       "    <tr>\n",
       "      <th>1</th>\n",
       "      <td>1702</td>\n",
       "      <td>10140</td>\n",
       "      <td>Aberdeen, WA</td>\n",
       "      <td>Aberdeen</td>\n",
       "      <td>53</td>\n",
       "      <td>WA</td>\n",
       "    </tr>\n",
       "    <tr>\n",
       "      <th>2</th>\n",
       "      <td>3341</td>\n",
       "      <td>10180</td>\n",
       "      <td>Abilene, TX</td>\n",
       "      <td>Abilene</td>\n",
       "      <td>48</td>\n",
       "      <td>TX</td>\n",
       "    </tr>\n",
       "    <tr>\n",
       "      <th>3</th>\n",
       "      <td>4165</td>\n",
       "      <td>10220</td>\n",
       "      <td>Ada, OK</td>\n",
       "      <td>Ada</td>\n",
       "      <td>40</td>\n",
       "      <td>OK</td>\n",
       "    </tr>\n",
       "    <tr>\n",
       "      <th>4</th>\n",
       "      <td>4505</td>\n",
       "      <td>10260</td>\n",
       "      <td>Adjuntas, PR</td>\n",
       "      <td>Adjuntas</td>\n",
       "      <td>72</td>\n",
       "      <td>PR</td>\n",
       "    </tr>\n",
       "  </tbody>\n",
       "</table>\n",
       "</div>"
      ],
      "text/plain": [
       "   index   CBSA    CBSA_TITLE PRINCIPAL FIPS_STATE STATE_ABB\n",
       "0   1331  10100  Aberdeen, SD  Aberdeen         46        SD\n",
       "1   1702  10140  Aberdeen, WA  Aberdeen         53        WA\n",
       "2   3341  10180   Abilene, TX   Abilene         48        TX\n",
       "3   4165  10220       Ada, OK       Ada         40        OK\n",
       "4   4505  10260  Adjuntas, PR  Adjuntas         72        PR"
      ]
     },
     "execution_count": 69,
     "metadata": {},
     "output_type": "execute_result"
    }
   ],
   "source": [
    "df_c_abb.head()"
   ]
  },
  {
   "cell_type": "code",
   "execution_count": 70,
   "metadata": {
    "collapsed": false
   },
   "outputs": [],
   "source": [
    "df_c_abb.drop(df_c_abb.columns[[0,2,4]], axis=1, inplace=True) ## remove column 0"
   ]
  },
  {
   "cell_type": "code",
   "execution_count": 71,
   "metadata": {
    "collapsed": false
   },
   "outputs": [
    {
     "data": {
      "text/html": [
       "<div>\n",
       "<table border=\"1\" class=\"dataframe\">\n",
       "  <thead>\n",
       "    <tr style=\"text-align: right;\">\n",
       "      <th></th>\n",
       "      <th>CBSA</th>\n",
       "      <th>PRINCIPAL</th>\n",
       "      <th>STATE_ABB</th>\n",
       "    </tr>\n",
       "  </thead>\n",
       "  <tbody>\n",
       "    <tr>\n",
       "      <th>0</th>\n",
       "      <td>10100</td>\n",
       "      <td>Aberdeen</td>\n",
       "      <td>SD</td>\n",
       "    </tr>\n",
       "    <tr>\n",
       "      <th>1</th>\n",
       "      <td>10140</td>\n",
       "      <td>Aberdeen</td>\n",
       "      <td>WA</td>\n",
       "    </tr>\n",
       "    <tr>\n",
       "      <th>2</th>\n",
       "      <td>10180</td>\n",
       "      <td>Abilene</td>\n",
       "      <td>TX</td>\n",
       "    </tr>\n",
       "    <tr>\n",
       "      <th>3</th>\n",
       "      <td>10220</td>\n",
       "      <td>Ada</td>\n",
       "      <td>OK</td>\n",
       "    </tr>\n",
       "    <tr>\n",
       "      <th>4</th>\n",
       "      <td>10260</td>\n",
       "      <td>Adjuntas</td>\n",
       "      <td>PR</td>\n",
       "    </tr>\n",
       "  </tbody>\n",
       "</table>\n",
       "</div>"
      ],
      "text/plain": [
       "    CBSA PRINCIPAL STATE_ABB\n",
       "0  10100  Aberdeen        SD\n",
       "1  10140  Aberdeen        WA\n",
       "2  10180   Abilene        TX\n",
       "3  10220       Ada        OK\n",
       "4  10260  Adjuntas        PR"
      ]
     },
     "execution_count": 71,
     "metadata": {},
     "output_type": "execute_result"
    }
   ],
   "source": [
    "df_c_abb.head()"
   ]
  },
  {
   "cell_type": "code",
   "execution_count": 72,
   "metadata": {
    "collapsed": false
   },
   "outputs": [],
   "source": [
    "df_c_abb.columns = [\"CBSA\", \"CITY\", \"STATE\"]"
   ]
  },
  {
   "cell_type": "code",
   "execution_count": 73,
   "metadata": {
    "collapsed": false,
    "scrolled": true
   },
   "outputs": [
    {
     "data": {
      "text/html": [
       "<div>\n",
       "<table border=\"1\" class=\"dataframe\">\n",
       "  <thead>\n",
       "    <tr style=\"text-align: right;\">\n",
       "      <th></th>\n",
       "      <th>CBSA</th>\n",
       "      <th>CITY</th>\n",
       "      <th>STATE</th>\n",
       "    </tr>\n",
       "  </thead>\n",
       "  <tbody>\n",
       "    <tr>\n",
       "      <th>0</th>\n",
       "      <td>10100</td>\n",
       "      <td>Aberdeen</td>\n",
       "      <td>SD</td>\n",
       "    </tr>\n",
       "    <tr>\n",
       "      <th>1</th>\n",
       "      <td>10140</td>\n",
       "      <td>Aberdeen</td>\n",
       "      <td>WA</td>\n",
       "    </tr>\n",
       "    <tr>\n",
       "      <th>2</th>\n",
       "      <td>10180</td>\n",
       "      <td>Abilene</td>\n",
       "      <td>TX</td>\n",
       "    </tr>\n",
       "    <tr>\n",
       "      <th>3</th>\n",
       "      <td>10220</td>\n",
       "      <td>Ada</td>\n",
       "      <td>OK</td>\n",
       "    </tr>\n",
       "    <tr>\n",
       "      <th>4</th>\n",
       "      <td>10260</td>\n",
       "      <td>Adjuntas</td>\n",
       "      <td>PR</td>\n",
       "    </tr>\n",
       "  </tbody>\n",
       "</table>\n",
       "</div>"
      ],
      "text/plain": [
       "    CBSA      CITY STATE\n",
       "0  10100  Aberdeen    SD\n",
       "1  10140  Aberdeen    WA\n",
       "2  10180   Abilene    TX\n",
       "3  10220       Ada    OK\n",
       "4  10260  Adjuntas    PR"
      ]
     },
     "execution_count": 73,
     "metadata": {},
     "output_type": "execute_result"
    }
   ],
   "source": [
    "df_c_abb.head()"
   ]
  },
  {
   "cell_type": "code",
   "execution_count": 40,
   "metadata": {
    "collapsed": true
   },
   "outputs": [],
   "source": [
    "df_c_abb.to_csv(\"CBSA-CITY-ST.csv\")    "
   ]
  },
  {
   "cell_type": "code",
   "execution_count": null,
   "metadata": {
    "collapsed": false
   },
   "outputs": [],
   "source": []
  }
 ],
 "metadata": {
  "kernelspec": {
   "display_name": "Python 2",
   "language": "python",
   "name": "python2"
  },
  "language_info": {
   "codemirror_mode": {
    "name": "ipython",
    "version": 2
   },
   "file_extension": ".py",
   "mimetype": "text/x-python",
   "name": "python",
   "nbconvert_exporter": "python",
   "pygments_lexer": "ipython2",
   "version": "2.7.11"
  }
 },
 "nbformat": 4,
 "nbformat_minor": 0
}
